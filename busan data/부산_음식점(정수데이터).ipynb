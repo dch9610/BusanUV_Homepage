{
 "cells": [
  {
   "cell_type": "code",
   "execution_count": 1,
   "metadata": {},
   "outputs": [],
   "source": [
    "import pandas as pd\n",
    "import csv"
   ]
  },
  {
   "cell_type": "code",
   "execution_count": 2,
   "metadata": {},
   "outputs": [],
   "source": [
    "busan_food= pd.read_csv('./소상공인시장진흥공단_상가(상권)정보_부산_202009.csv', encoding='UTF-8', sep='|')"
   ]
  },
  {
   "cell_type": "code",
   "execution_count": null,
   "metadata": {},
   "outputs": [],
   "source": [
    "busan_food"
   ]
  },
  {
   "cell_type": "code",
   "execution_count": 3,
   "metadata": {},
   "outputs": [],
   "source": [
    "busan_food = busan_food[['상호명','상권업종대분류명','상권업종중분류명','상권업종소분류코드','상권업종소분류명','도로명주소','경도','위도']]\n",
    "busan_food.rename({\"상호명\":'name',\n",
    "                  '상권업종대분류명':'clasificar',\n",
    "                  '상권업종중분류명':'middle clasificar',\n",
    "                  '상권업종소분류코드':'code',\n",
    "                  '상권업종소분류명':'small clasificar',\n",
    "                  '도로명주소':\"addr\",\n",
    "                  '경도':'long',\n",
    "                  '위도':'lat'}, axis = 'columns' ,inplace= True)"
   ]
  },
  {
   "cell_type": "code",
   "execution_count": 4,
   "metadata": {},
   "outputs": [
    {
     "data": {
      "text/plain": [
       "array(['음식', '소매', '학문/교육', '생활서비스', '관광/여가/오락', '부동산', '숙박', '스포츠'],\n",
       "      dtype=object)"
      ]
     },
     "execution_count": 4,
     "metadata": {},
     "output_type": "execute_result"
    }
   ],
   "source": [
    "busan_food['clasificar'].unique()"
   ]
  },
  {
   "cell_type": "code",
   "execution_count": 5,
   "metadata": {},
   "outputs": [],
   "source": [
    "busan_food_clasifi=busan_food.loc[busan_food['clasificar'].str.contains(\"음식\", na=False)]"
   ]
  },
  {
   "cell_type": "code",
   "execution_count": 6,
   "metadata": {},
   "outputs": [
    {
     "name": "stderr",
     "output_type": "stream",
     "text": [
      "C:\\Users\\master21\\anaconda3\\lib\\site-packages\\pandas\\core\\frame.py:4163: SettingWithCopyWarning: \n",
      "A value is trying to be set on a copy of a slice from a DataFrame\n",
      "\n",
      "See the caveats in the documentation: https://pandas.pydata.org/pandas-docs/stable/user_guide/indexing.html#returning-a-view-versus-a-copy\n",
      "  return super().drop(\n"
     ]
    }
   ],
   "source": [
    "busan_food_clasifi.drop(busan_food_clasifi.loc[busan_food_clasifi['middle clasificar'] == '커피점/카페'].index, inplace = True)"
   ]
  },
  {
   "cell_type": "code",
   "execution_count": 7,
   "metadata": {},
   "outputs": [],
   "source": [
    "data1=busan_food_clasifi.loc[busan_food_clasifi[\"addr\"].str.contains(\"부산대학로\", na=False)]\n",
    "data2=busan_food_clasifi.loc[busan_food_clasifi[\"addr\"].str.contains(\"금정로\", na=False)]\n",
    "data3=busan_food_clasifi.loc[busan_food_clasifi[\"addr\"].str.contains(\"금강로\", na=False)]\n",
    "data4=busan_food_clasifi.loc[busan_food_clasifi[\"addr\"].str.contains(\"장전로\", na=False)]"
   ]
  },
  {
   "cell_type": "code",
   "execution_count": 10,
   "metadata": {},
   "outputs": [],
   "source": [
    "busanUV_food = pd.concat([data1,data2])\n",
    "busanUV_food2 = pd.concat([data3,data4])\n",
    "busanUV_food3 = pd.concat([busanUV_food,busanUV_food2])"
   ]
  },
  {
   "cell_type": "code",
   "execution_count": 14,
   "metadata": {},
   "outputs": [],
   "source": [
    "busanUV_food3.to_csv(\"부산대 음식점.csv\", encoding='UTF-8')"
   ]
  }
 ],
 "metadata": {
  "kernelspec": {
   "display_name": "Python 3",
   "language": "python",
   "name": "python3"
  },
  "language_info": {
   "codemirror_mode": {
    "name": "ipython",
    "version": 3
   },
   "file_extension": ".py",
   "mimetype": "text/x-python",
   "name": "python",
   "nbconvert_exporter": "python",
   "pygments_lexer": "ipython3",
   "version": "3.8.5"
  }
 },
 "nbformat": 4,
 "nbformat_minor": 4
}
