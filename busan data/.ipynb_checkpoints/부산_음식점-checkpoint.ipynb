{
 "cells": [
  {
   "cell_type": "code",
   "execution_count": 2,
   "metadata": {},
   "outputs": [],
   "source": [
    "import pandas as pd\n",
    "import csv"
   ]
  },
  {
   "cell_type": "code",
   "execution_count": 11,
   "metadata": {},
   "outputs": [],
   "source": [
    "busan_food = pd.read_csv('부산광역시 금정구_일반음식점현황_20200922.csv', encoding='euc-kr' )\n",
    "busan_food_jangjeon = busan_food.loc[busan_food[\"소재지\"].str.contains(\"장전동\", na=False)]"
   ]
  },
  {
   "cell_type": "code",
   "execution_count": 21,
   "metadata": {},
   "outputs": [],
   "source": [
    "# 모범 음식점\n",
    "busan_elite_food = pd.read_csv('부산광역시 금정구 모범음식점 현황_20200828.csv', encoding='euc-kr' )\n",
    "busan_elite_food_jangjeon = busan_elite_food.loc[busan_elite_food[\"소재지(도로명)\"].str.contains(\"장전\",na=False)]"
   ]
  },
  {
   "cell_type": "code",
   "execution_count": 30,
   "metadata": {
    "scrolled": true
   },
   "outputs": [
    {
     "name": "stdout",
     "output_type": "stream",
     "text": [
      "        업종명         업소명                          소재지         소재지전화\n",
      "0     일반음식점    파전이랑 닭갈비         부산광역시 금정구 장전동 360-15           NaN\n",
      "30    일반음식점        대게마당          부산광역시 금정구 장전동 96-27  051-513-4411\n",
      "58    일반음식점   에스빈(SBin)         부산광역시 금정구 장전동 420-37  051-581-4647\n",
      "59    일반음식점        미가분식         부산광역시 금정구 장전동 146-12           NaN\n",
      "60    일반음식점      설봉돼지국밥          부산광역시 금정구 장전동 203-5  051-582-9288\n",
      "...     ...         ...                          ...           ...\n",
      "3083  일반음식점         본토당    부산광역시 금정구 장전동 293-67 동엽빌딩           NaN\n",
      "3091  일반음식점     닭강정5반하다  부산광역시 금정구 장전동 643-117 테라스파크           NaN\n",
      "3092  일반음식점  롤링파스타 부산대점          부산광역시 금정구 장전동 409-9  051-504-0410\n",
      "3094  일반음식점       쌀뜰쌀국수          부산광역시 금정구 장전동 222-2           NaN\n",
      "3095  일반음식점       봉자떡볶이    부산광역시 금정구 장전동 154-20 진흥빌라  051-583-0010\n",
      "\n",
      "[974 rows x 4 columns]\n",
      "    연번      업소명                       소재지(도로명)       소재지전화번호  주된음식\n",
      "4    5     낙원식당    부산광역시 금정구 식물원로44번길 12 (장전동)  051-515-5789    쌈밥\n",
      "8    9      늘아침  부산광역시 금정구 부산대학로64번길 155 (장전동)  051-518-9200  오리고기\n",
      "11  12      대성관        부산광역시 금정구 금강로 179 (장전동)  051-518-4001   생선회\n",
      "26  27    서울깍두기      부산광역시 금정구 장전온천천로 75 (장전동)  051-582-9005   설렁탕\n",
      "37  38  참나무숯불구이         부산광역시 금정구 금정로 25 (장전동)  051-582-5392   생갈비\n"
     ]
    }
   ],
   "source": [
    "print(busan_food_jangjeon)\n",
    "print(busan_elite_food_jangjeon)"
   ]
  },
  {
   "cell_type": "code",
   "execution_count": null,
   "metadata": {},
   "outputs": [],
   "source": []
  }
 ],
 "metadata": {
  "kernelspec": {
   "display_name": "Python 3",
   "language": "python",
   "name": "python3"
  },
  "language_info": {
   "codemirror_mode": {
    "name": "ipython",
    "version": 3
   },
   "file_extension": ".py",
   "mimetype": "text/x-python",
   "name": "python",
   "nbconvert_exporter": "python",
   "pygments_lexer": "ipython3",
   "version": "3.8.5"
  }
 },
 "nbformat": 4,
 "nbformat_minor": 4
}
